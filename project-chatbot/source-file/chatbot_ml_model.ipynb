{
 "cells": [
  {
   "cell_type": "code",
   "execution_count": 16,
   "id": "5636e55f",
   "metadata": {},
   "outputs": [],
   "source": [
    "import pandas as pd\n",
    "import re\n",
    "from sklearn.feature_extraction.text import TfidfVectorizer\n",
    "import numpy as np\n",
    "from sklearn.svm import SVC\n",
    "from sklearn.model_selection import GridSearchCV\n",
    "from sklearn.metrics import accuracy_score, classification_report\n",
    "from sklearn.pipeline import Pipeline"
   ]
  },
  {
   "cell_type": "code",
   "execution_count": 17,
   "id": "15d2c50d",
   "metadata": {},
   "outputs": [],
   "source": [
    "df = pd.read_csv('../Data/chatbot_training_data.csv')"
   ]
  },
  {
   "cell_type": "code",
   "execution_count": 18,
   "id": "2f7e347e",
   "metadata": {},
   "outputs": [],
   "source": [
    "x = df['text'].values\n",
    "y = df['intent'].values\n"
   ]
  },
  {
   "cell_type": "code",
   "execution_count": 19,
   "id": "8b658210",
   "metadata": {},
   "outputs": [],
   "source": [
    "params = {\n",
    "    'svc__C': [1, 5, 10],\n",
    "    'svc__kernel': ['linear', 'rbf'],\n",
    "    'svc__class_weight': [None, 'balanced'],\n",
    "    'svc__gamma': ['scale', 'auto']\n",
    "}"
   ]
  },
  {
   "cell_type": "code",
   "execution_count": 20,
   "id": "c7966004",
   "metadata": {},
   "outputs": [],
   "source": [
    "pipeline = Pipeline([\n",
    "    ('tfidf', TfidfVectorizer(ngram_range=(1,2), stop_words='english')),\n",
    "    ('svc', SVC(probability=True))\n",
    "])"
   ]
  },
  {
   "cell_type": "code",
   "execution_count": null,
   "id": "74c5412f",
   "metadata": {},
   "outputs": [],
   "source": [
    "\n",
    "grid = GridSearchCV(pipeline, param_grid=params, cv=5)\n",
    "grid.fit(x, y)"
   ]
  },
  {
   "cell_type": "code",
   "execution_count": 22,
   "id": "71008a05",
   "metadata": {},
   "outputs": [
    {
     "name": "stdout",
     "output_type": "stream",
     "text": [
      "Best Params: {'svc__C': 1, 'svc__class_weight': 'balanced', 'svc__gamma': 'scale', 'svc__kernel': 'rbf'}\n",
      "Best Cross-Validated Accuracy: 0.8002016129032258\n"
     ]
    }
   ],
   "source": [
    "print(\"Best Params:\", grid.best_params_)\n",
    "print(\"Best Cross-Validated Accuracy:\", grid.best_score_)\n"
   ]
  },
  {
   "cell_type": "code",
   "execution_count": 23,
   "id": "8f649924",
   "metadata": {},
   "outputs": [
    {
     "name": "stdout",
     "output_type": "stream",
     "text": [
      "Accuracy: 0.9871794871794872\n",
      "              precision    recall  f1-score   support\n",
      "\n",
      "   faq_hours       1.00      1.00      1.00        20\n",
      " faq_payment       1.00      1.00      1.00        20\n",
      " faq_returns       1.00      1.00      1.00        20\n",
      "faq_shipping       1.00      1.00      1.00        20\n",
      "       greet       1.00      0.95      0.97        20\n",
      "  human_help       1.00      0.95      0.97        20\n",
      "          ok       0.89      1.00      0.94        16\n",
      "order_status       1.00      1.00      1.00        20\n",
      "\n",
      "    accuracy                           0.99       156\n",
      "   macro avg       0.99      0.99      0.99       156\n",
      "weighted avg       0.99      0.99      0.99       156\n",
      "\n"
     ]
    }
   ],
   "source": [
    "y_pred = grid.predict(x)  \n",
    "print(\"Accuracy:\", accuracy_score(y, y_pred))\n",
    "print(classification_report(y, y_pred))"
   ]
  },
  {
   "cell_type": "code",
   "execution_count": 24,
   "id": "f928856a",
   "metadata": {},
   "outputs": [
    {
     "name": "stdout",
     "output_type": "stream",
     "text": [
      "['order_status']\n"
     ]
    }
   ],
   "source": [
    "ypred = grid.predict(['update on my order'])\n",
    "print(ypred)"
   ]
  },
  {
   "cell_type": "code",
   "execution_count": 25,
   "id": "41c28737",
   "metadata": {},
   "outputs": [],
   "source": [
    "\n",
    "def clean_input(text):\n",
    "    text = text.lower()\n",
    "    text = re.sub(r'[^\\w\\s#]', '', text)\n",
    "    text = re.sub(r'\\s+', ' ', text).strip()\n",
    "    return text"
   ]
  },
  {
   "cell_type": "code",
   "execution_count": 28,
   "id": "e68739c9",
   "metadata": {},
   "outputs": [],
   "source": [
    "\n",
    "def predict_intent(user_input):\n",
    "    prediction = grid.predict([user_input])[0]\n",
    "    probability = grid.predict_proba([user_input])[0]\n",
    "    confidence = np.max(probability)\n",
    "    return prediction, float(confidence)\n"
   ]
  },
  {
   "cell_type": "code",
   "execution_count": null,
   "id": "adb51d93",
   "metadata": {},
   "outputs": [
    {
     "name": "stdout",
     "output_type": "stream",
     "text": [
      "🤖 Bot: Hello! How can I assist you today?\n",
      "🤖 Bot: Goodbye! Have a great day!\n"
     ]
    }
   ],
   "source": [
    "def get_response(intent, user_input):\n",
    "    if intent == 'greet':\n",
    "        return \"Hello there! How can I help you today?\"\n",
    "    elif intent == 'ok':\n",
    "        return \"Okay! If you have any questions, feel free to ask or type 'quit' to exit.\"\n",
    "    elif intent == \"order_status\":\n",
    "        order_id = re.findall(r'#?\\d{4,6}', user_input)\n",
    "        order_id = order_id[0].lstrip('#') if order_id else None\n",
    "        mock_orders = {\n",
    "            \"12345\": \"📦 Order 12345 is out for delivery.\",\n",
    "            \"67890\": \"✅ Order 67890 has been delivered.\"\n",
    "        }\n",
    "        return mock_orders.get(order_id, \"⚠️ I couldn't find that order ID.\") if order_id else \"Please provide your order number.\"\n",
    "    elif intent == \"faq_payment\":\n",
    "        return \"💳 We accept Visa, MasterCard, and PayPal.\"\n",
    "    \n",
    "    elif intent == \"faq_hours\":\n",
    "        return \"🕘 Our store hours are 9 AM to 9 PM, Monday to Saturday.\"\n",
    "\n",
    "    elif intent == \"faq_returns\":\n",
    "        return \"🔄 You can return items within 30 days of purchase with a receipt.\"\n",
    "\n",
    "    elif intent == \"human_help\":\n",
    "        return \"☎️ Please hold while I connect you to a human representative.\"\n",
    "\n",
    "    elif intent == \"faq_shipping\":\n",
    "        return \"🚚 We offer free shipping on orders over $50. Standard shipping takes 3-5 business days.\"\n",
    "\n",
    "    elif intent == \"faq_contact\":\n",
    "        return \"📞 You can reach us at ABC@company.com or 1-800-555-01**\"\n",
    "    else:\n",
    "        return \"❓ I'm not sure how to help with that. Please rephrase or contact support at 1-800-555-01**.\"\n",
    "\n",
    "def chatbot_response():\n",
    "    print(\"🤖 Bot: Hello! How can I assist you today?\")\n",
    "    while True:\n",
    "        user_input = input(\"🧑 You: \").strip()\n",
    "        if user_input.lower() in [\"bye\", \"exit\", \"quit\"]:\n",
    "            print(\"🤖 Bot: Goodbye! Have a great day!\")\n",
    "            break\n",
    "        cleaned_input = clean_input(user_input)\n",
    "        intent, confidence = predict_intent(cleaned_input)\n",
    "        if confidence < 0.4:\n",
    "            print(f\"🤖 Bot: Hmm... I'm not confident in my understanding (Intent: {intent}, Confidence: {confidence:.2f}). Could you rephrase?\")\n",
    "        else:\n",
    "            response = get_response(intent, user_input)\n",
    "            print(\"🕵️‍♂️ you: \",user_input)\n",
    "            print(f\"🤖 Bot (Intent: {intent}, Confidence: {confidence:.2f}): {response}\")\n",
    "chatbot_response()\n"
   ]
  },
  {
   "cell_type": "code",
   "execution_count": null,
   "id": "ce42b8e3",
   "metadata": {},
   "outputs": [],
   "source": []
  }
 ],
 "metadata": {
  "kernelspec": {
   "display_name": "base",
   "language": "python",
   "name": "python3"
  },
  "language_info": {
   "codemirror_mode": {
    "name": "ipython",
    "version": 3
   },
   "file_extension": ".py",
   "mimetype": "text/x-python",
   "name": "python",
   "nbconvert_exporter": "python",
   "pygments_lexer": "ipython3",
   "version": "3.10.9"
  }
 },
 "nbformat": 4,
 "nbformat_minor": 5
}
